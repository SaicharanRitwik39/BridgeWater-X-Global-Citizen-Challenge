{
 "cells": [
  {
   "cell_type": "code",
   "execution_count": 1,
   "metadata": {},
   "outputs": [],
   "source": [
    "import numpy as np\n",
    "import pandas as pd\n",
    "import matplotlib.pyplot as plt\n",
    "\n",
    "np.float = float    \n",
    "np.int = int   \n",
    "np.object = object  \n",
    "np.bool = bool   "
   ]
  },
  {
   "cell_type": "code",
   "execution_count": 2,
   "metadata": {},
   "outputs": [],
   "source": [
    "file_path = \"WSTS-Historical-Billings-Report-May2025.xlsx\"\n",
    "monthly_data = pd.read_excel(file_path, sheet_name=\"Monthly Data\")\n",
    "\n",
    "# Drop top non-data rows and reset index.\n",
    "cleaned_data = monthly_data.drop(index=[0, 1, 2, 3]).reset_index(drop=True)\n",
    "\n",
    "# Use actual header row (row 2 in original Excel) to set column names.\n",
    "header_row = monthly_data.iloc[2]\n",
    "cleaned_data.columns = header_row\n",
    "cleaned_data = cleaned_data.rename(columns={cleaned_data.columns[0]: \"Region\"})\n",
    "\n",
    "# Filter for Americas and Worldwide.\n",
    "americas_data = cleaned_data[cleaned_data[\"Region\"] == \"Americas\"][[\"Region\", \"Total Year\"]].copy()\n",
    "worldwide_data = cleaned_data[cleaned_data[\"Region\"] == \"Worldwide\"][[\"Region\", \"Total Year\"]].copy()\n",
    "\n",
    "# Assign year range based on known starting year (1986).\n",
    "americas_data[\"Year\"] = range(1986, 1986 + len(americas_data))\n",
    "worldwide_data[\"Year\"] = range(1986, 1986 + len(worldwide_data))\n",
    "\n",
    "# Convert revenue to numeric.\n",
    "americas_data[\"Total Year\"] = pd.to_numeric(americas_data[\"Total Year\"], errors='coerce')\n",
    "worldwide_data[\"Total Year\"] = pd.to_numeric(worldwide_data[\"Total Year\"], errors='coerce')"
   ]
  },
  {
   "cell_type": "code",
   "execution_count": 3,
   "metadata": {},
   "outputs": [
    {
     "name": "stdout",
     "output_type": "stream",
     "text": [
      "2   Year  Total Year_Americas  Total Year_Worldwide  Americas_Share_Percent\n",
      "0   1986              8508557              26355359               32.283973\n",
      "1   1987             10259204              32530452               31.537232\n",
      "2   1988             13418040              45004809               29.814680\n",
      "3   1989             14829035              48762926               30.410470\n",
      "4   1990             14445437              50518932               28.594106\n",
      "5   1991             15376273              54607454               28.157828\n",
      "6   1992             18410756              59864958               30.753811\n",
      "7   1993             24744008              77309681               32.006351\n",
      "8   1994             33561586             101878593               32.942726\n",
      "9   1995             46998462             144403681               32.546582\n",
      "10  1996             42679016             131966432               32.340812\n",
      "11  1997             45850894             137203120               33.418259\n",
      "12  1998             41431926             125611999               32.984051\n",
      "13  1999             47477880             149378551               31.783599\n",
      "14  2000             64071359             204393623               31.347044\n",
      "15  2001             35778448             138962610               25.746816\n",
      "16  2002             31275477             140713320               22.226380\n",
      "17  2003             32330682             166425522               19.426517\n",
      "18  2004             39064550             213026836               18.337854\n",
      "19  2005             40735591             227484137               17.907003\n",
      "20  2006             44911905             247716193               18.130387\n",
      "21  2007             42336283             255645338               16.560554\n",
      "22  2008             37880541             248602812               15.237374\n",
      "23  2009             38519818             226313366               17.020567\n",
      "24  2010             53675349             298315115               17.992836\n",
      "25  2011             55197414             299521338               18.428541\n",
      "26  2012             54358803             291562116               18.643987\n",
      "27  2013             61495501             305583864               20.123936\n",
      "28  2014             69323834             335842917               20.641744\n",
      "29  2015             68737935             335167861               20.508510\n",
      "30  2016             65537497             338930855               19.336539\n",
      "31  2017             88493523             412220944               21.467498\n",
      "32  2018            102997197             468778285               21.971410\n",
      "33  2019             78619471             412306976               19.068188\n",
      "34  2020             95366081             440389358               21.654947\n",
      "35  2021            121481333             555892514               21.853385\n",
      "36  2022            141135952             574084194               24.584539\n",
      "37  2023            134377318             526885425               25.504087\n",
      "38  2024            195122507             630548606               30.944880\n",
      "39  2025             89684185             281865876               31.818036\n"
     ]
    }
   ],
   "source": [
    "# Merge both datasets on Year.\n",
    "merged_data = pd.merge(americas_data, worldwide_data, on=\"Year\", suffixes=(\"_Americas\", \"_Worldwide\"))\n",
    "\n",
    "# Calculate percentage share.\n",
    "merged_data[\"Americas_Share_Percent\"] = (\n",
    "    merged_data[\"Total Year_Americas\"] / merged_data[\"Total Year_Worldwide\"]\n",
    ") * 100\n",
    "\n",
    "# View the final DataFrame.\n",
    "print(merged_data[[\"Year\", \"Total Year_Americas\", \"Total Year_Worldwide\", \"Americas_Share_Percent\"]])"
   ]
  },
  {
   "cell_type": "code",
   "execution_count": 4,
   "metadata": {},
   "outputs": [
    {
     "data": {
      "image/png": "[encoded data removed]",
      "text/plain": [
       "<Figure size 432x288 with 1 Axes>"
      ]
     },
     "metadata": {
      "needs_background": "light"
     },
     "output_type": "display_data"
    }
   ],
   "source": [
    "plt.plot(merged_data[\"Year\"], merged_data[\"Americas_Share_Percent\"], marker='o')\n",
    "plt.title(\"Americas Share of Global Semiconductor Revenue (%)\")\n",
    "plt.vlines(2022,0,32.5,linestyles=\"dotted\",color='red')\n",
    "plt.xlabel(\"Year\")\n",
    "plt.ylabel(\"Share (%)\")\n",
    "plt.grid(True)\n",
    "plt.show()"
   ]
  },
  {
   "cell_type": "code",
   "execution_count": 5,
   "metadata": {},
   "outputs": [
    {
     "name": "stdout",
     "output_type": "stream",
     "text": [
      "Americas Share in 2025: 31.82%\n"
     ]
    }
   ],
   "source": [
    "share_2025 = merged_data[merged_data[\"Year\"] == 2025][\"Americas_Share_Percent\"].values[0]\n",
    "print(f\"Americas Share in 2025: {share_2025:.2f}%\")"
   ]
  },
  {
   "cell_type": "markdown",
   "metadata": {},
   "source": [
    "### Bootstrapping."
   ]
  },
  {
   "cell_type": "code",
   "execution_count": 6,
   "metadata": {},
   "outputs": [
    {
     "data": {
      "text/plain": [
       "12.46"
      ]
     },
     "execution_count": 6,
     "metadata": {},
     "output_type": "execute_result"
    }
   ],
   "source": [
    "# Calculate YoY percentage changes in Americas share\n",
    "merged_data[\"YoY_Change\"] = merged_data[\"Americas_Share_Percent\"].pct_change()\n",
    "\n",
    "# Drop NaN from the first row\n",
    "yoy_changes = merged_data[\"YoY_Change\"].dropna().values\n",
    "\n",
    "# Last known Americas share percentage (2024)\n",
    "latest_share = merged_data[\"Americas_Share_Percent\"].iloc[-1]\n",
    "\n",
    "n_simulations = 10000\n",
    "forecasted_shares = []\n",
    "\n",
    "# Perform bootstrap sampling\n",
    "np.random.seed(42)\n",
    "for _ in range(n_simulations):\n",
    "    sampled_changes = np.random.choice(yoy_changes, size=1, replace=True)\n",
    "    forecasted_share = latest_share * (1 + sampled_changes[0])\n",
    "    forecasted_shares.append(forecasted_share)\n",
    "\n",
    "forecasted_shares = np.array(forecasted_shares)\n",
    "prob_exceeds_35 = np.mean(forecasted_shares > 35) * 100\n",
    "prob_exceeds_35"
   ]
  },
  {
   "cell_type": "code",
   "execution_count": null,
   "metadata": {},
   "outputs": [],
   "source": []
  }
 ],
 "metadata": {
  "kernelspec": {
   "display_name": "Python 3",
   "language": "python",
   "name": "python3"
  },
  "language_info": {
   "codemirror_mode": {
    "name": "ipython",
    "version": 3
   },
   "file_extension": ".py",
   "mimetype": "text/x-python",
   "name": "python",
   "nbconvert_exporter": "python",
   "pygments_lexer": "ipython3",
   "version": "3.8.5"
  }
 },
 "nbformat": 4,
 "nbformat_minor": 4
}
